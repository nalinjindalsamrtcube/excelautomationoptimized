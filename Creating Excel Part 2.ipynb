{
 "cells": [
  {
   "cell_type": "code",
   "execution_count": 1,
   "id": "604f58ab",
   "metadata": {},
   "outputs": [],
   "source": [
    "import pandas as pd"
   ]
  },
  {
   "cell_type": "code",
   "execution_count": 2,
   "id": "48b91f9d",
   "metadata": {},
   "outputs": [],
   "source": [
    "import xlsxwriter\n",
    "import openpyxl\n",
    "from openpyxl.styles import PatternFill\n",
    "from openpyxl import Workbook\n",
    "import openpyxl\n",
    "from openpyxl.styles import Font"
   ]
  },
  {
   "cell_type": "code",
   "execution_count": 3,
   "id": "e1d9d8c3",
   "metadata": {},
   "outputs": [],
   "source": [
    "df3 = pd.read_csv('OT_output4.csv')"
   ]
  },
  {
   "cell_type": "code",
   "execution_count": 4,
   "id": "d9f7d3e6",
   "metadata": {},
   "outputs": [],
   "source": [
    "workbook = xlsxwriter.Workbook('otTraderPanel.xlsx')"
   ]
  },
  {
   "cell_type": "code",
   "execution_count": 5,
   "id": "a85a532d",
   "metadata": {},
   "outputs": [],
   "source": [
    "worksheet1 = workbook.add_worksheet('Sheet 1')"
   ]
  },
  {
   "cell_type": "code",
   "execution_count": 6,
   "id": "6d4ff416",
   "metadata": {},
   "outputs": [],
   "source": [
    "worksheet2 = workbook.add_worksheet('Sheet 2')"
   ]
  },
  {
   "cell_type": "code",
   "execution_count": 7,
   "id": "fa218665",
   "metadata": {},
   "outputs": [],
   "source": [
    "dates = ['01-02-1998', '02-04-1999', '09-07-2000', '01-02-2001']"
   ]
  },
  {
   "cell_type": "code",
   "execution_count": 8,
   "id": "ee153518",
   "metadata": {},
   "outputs": [],
   "source": [
    "row = 0\n",
    "column = 0\n",
    "customer_top_header=['Customer terms','Customer prices']\n",
    "for item in customer_top_header :\n",
    "    worksheet1.write(row, column, item)\n",
    "    column += 23"
   ]
  },
  {
   "cell_type": "code",
   "execution_count": 9,
   "id": "142612fd",
   "metadata": {},
   "outputs": [],
   "source": [
    "row = 1\n",
    "column = 0\n",
    "customer_content = [ 'Name','Report',\n",
    "           'Cargo','Contractual qty(MT)',\n",
    "           'Tolerance +/-(%)','Quantity option','Stow factor(cbft/mt)','Load port','Load rate(MT/day)','Load terms','Load draft(m)',\n",
    "           'No. of berths','Use cranes load','Discharge port','Discharge rate(MT/day)','Discharge terms',\n",
    "           'Discharge draft(m)','No. of berths','Use cranes disch','Voyage sale addr comm(%)',\n",
    "           'Voyage sale broker comm(%)','Option part cargo','Customer prices'] \n",
    "customer_content.extend(dates)\n",
    "\n",
    "for item in customer_content :\n",
    "    worksheet1.write(row, column, item)\n",
    "    column += 1"
   ]
  },
  {
   "cell_type": "code",
   "execution_count": 10,
   "id": "2ffff3ce",
   "metadata": {},
   "outputs": [],
   "source": [
    "# for i in range(len(newExgen1)):\n",
    "#     worksheet2.write(newExgen1[i][0],newExgen1[i][1])"
   ]
  },
  {
   "cell_type": "code",
   "execution_count": 11,
   "id": "71482be5",
   "metadata": {},
   "outputs": [],
   "source": [
    "final_col_data = []\n",
    "content1=['Base cargo name',\n",
    "          'Base cargo concatenated terms',\n",
    "          'Base cargo IMOS estimate']\n",
    "final_col_data.extend(content1)\n",
    "final_col_data.extend(2*dates)\n",
    "final_col_data.extend(['Top-off cargo IMOS estimate'])\n",
    "final_col_data.extend(2*dates)        , \n",
    "final_col_data.extend(['Parcel calc name','Parcel calc concatenated terms','Parcel calc IMOS estimate'])\n",
    "final_col_data.extend(3*dates)"
   ]
  },
  {
   "cell_type": "code",
   "execution_count": 12,
   "id": "b060fff2",
   "metadata": {},
   "outputs": [],
   "source": [
    "# final_col_data"
   ]
  },
  {
   "cell_type": "code",
   "execution_count": 13,
   "id": "63743a51",
   "metadata": {},
   "outputs": [],
   "source": [
    "row = 0\n",
    "column = 0\n",
    "counter=0\n",
    "\n",
    "content2=['Base cargo no parcel option terms',#3\n",
    "'Base cargo no parcel option prices',#Y\n",
    "'Base cargo parcel option discounts/prices',#Y\n",
    "'Top-off cargo economical stem no parcel option prices',#Y+1\n",
    "'Top-off cargo w/parcel option discounts',#Y\n",
    "'Parcel calc terms', #3 \n",
    "'Parcel calc P&L',#wY\n",
    "'Parcel calc INPUT P&L',#Y\n",
    "'Parcel calc top-off parcel option PnL equivalent discount']#Y\n",
    "counter=0\n",
    "\n",
    "for item in content2 :\n",
    "    worksheet2.write(row, column, item)\n",
    "    if counter==0:\n",
    "        column+=3\n",
    "    elif(counter==3):    \n",
    "        column = column +1+len(dates)  #         column+=1\n",
    "    elif(counter==5):\n",
    "        column+=3\n",
    "    else:\n",
    "        column=column+len(dates)\n",
    "    \n",
    "    counter+=1"
   ]
  },
  {
   "cell_type": "code",
   "execution_count": null,
   "id": "364adce6",
   "metadata": {},
   "outputs": [],
   "source": []
  },
  {
   "cell_type": "code",
   "execution_count": 14,
   "id": "925bd0a3",
   "metadata": {},
   "outputs": [],
   "source": [
    "row=1\n",
    "column=0\n",
    "for item in final_col_data :\n",
    "    worksheet2.write(row, column, item)\n",
    "#     print(item, column)\n",
    "    column += 1"
   ]
  },
  {
   "cell_type": "code",
   "execution_count": 15,
   "id": "55e8d685",
   "metadata": {},
   "outputs": [],
   "source": [
    "workbook.close()"
   ]
  },
  {
   "cell_type": "code",
   "execution_count": null,
   "id": "523339b1",
   "metadata": {},
   "outputs": [],
   "source": []
  },
  {
   "cell_type": "code",
   "execution_count": null,
   "id": "6d6f5c43",
   "metadata": {},
   "outputs": [],
   "source": []
  },
  {
   "cell_type": "code",
   "execution_count": null,
   "id": "31e13bc5",
   "metadata": {},
   "outputs": [],
   "source": []
  },
  {
   "cell_type": "code",
   "execution_count": null,
   "id": "baae19d6",
   "metadata": {},
   "outputs": [],
   "source": []
  },
  {
   "cell_type": "code",
   "execution_count": null,
   "id": "26ac99a7",
   "metadata": {},
   "outputs": [],
   "source": []
  },
  {
   "cell_type": "code",
   "execution_count": null,
   "id": "16d322da",
   "metadata": {},
   "outputs": [],
   "source": []
  },
  {
   "cell_type": "code",
   "execution_count": null,
   "id": "7e44607a",
   "metadata": {},
   "outputs": [],
   "source": []
  },
  {
   "cell_type": "code",
   "execution_count": null,
   "id": "d6085451",
   "metadata": {},
   "outputs": [],
   "source": []
  },
  {
   "cell_type": "code",
   "execution_count": null,
   "id": "e3b27ec7",
   "metadata": {},
   "outputs": [],
   "source": []
  },
  {
   "cell_type": "code",
   "execution_count": null,
   "id": "bde63b7a",
   "metadata": {},
   "outputs": [],
   "source": []
  },
  {
   "cell_type": "code",
   "execution_count": null,
   "id": "11fc21e2",
   "metadata": {},
   "outputs": [],
   "source": []
  },
  {
   "cell_type": "code",
   "execution_count": null,
   "id": "b0143b7f",
   "metadata": {},
   "outputs": [],
   "source": []
  },
  {
   "cell_type": "code",
   "execution_count": null,
   "id": "43f5e320",
   "metadata": {},
   "outputs": [],
   "source": []
  },
  {
   "cell_type": "code",
   "execution_count": null,
   "id": "909cb515",
   "metadata": {},
   "outputs": [],
   "source": []
  },
  {
   "cell_type": "code",
   "execution_count": null,
   "id": "9662f2f5",
   "metadata": {},
   "outputs": [],
   "source": []
  },
  {
   "cell_type": "code",
   "execution_count": null,
   "id": "554137c1",
   "metadata": {},
   "outputs": [],
   "source": []
  },
  {
   "cell_type": "code",
   "execution_count": null,
   "id": "8510c32c",
   "metadata": {},
   "outputs": [],
   "source": []
  },
  {
   "cell_type": "code",
   "execution_count": null,
   "id": "9e6e3fe0",
   "metadata": {},
   "outputs": [],
   "source": []
  },
  {
   "cell_type": "code",
   "execution_count": null,
   "id": "aa01cfe0",
   "metadata": {},
   "outputs": [],
   "source": []
  },
  {
   "cell_type": "code",
   "execution_count": null,
   "id": "e377a34e",
   "metadata": {},
   "outputs": [],
   "source": []
  },
  {
   "cell_type": "code",
   "execution_count": null,
   "id": "87131892",
   "metadata": {},
   "outputs": [],
   "source": []
  },
  {
   "cell_type": "code",
   "execution_count": null,
   "id": "564d460a",
   "metadata": {},
   "outputs": [],
   "source": []
  },
  {
   "cell_type": "code",
   "execution_count": null,
   "id": "ea157ec5",
   "metadata": {},
   "outputs": [],
   "source": []
  },
  {
   "cell_type": "code",
   "execution_count": null,
   "id": "ca6ef834",
   "metadata": {},
   "outputs": [],
   "source": []
  },
  {
   "cell_type": "code",
   "execution_count": null,
   "id": "07b2fc85",
   "metadata": {},
   "outputs": [],
   "source": []
  },
  {
   "cell_type": "code",
   "execution_count": null,
   "id": "a74748a0",
   "metadata": {},
   "outputs": [],
   "source": []
  },
  {
   "cell_type": "code",
   "execution_count": null,
   "id": "3a6e2bcd",
   "metadata": {},
   "outputs": [],
   "source": []
  },
  {
   "cell_type": "code",
   "execution_count": null,
   "id": "dd5360a8",
   "metadata": {},
   "outputs": [],
   "source": []
  },
  {
   "cell_type": "code",
   "execution_count": null,
   "id": "e0f18eeb",
   "metadata": {},
   "outputs": [],
   "source": []
  },
  {
   "cell_type": "code",
   "execution_count": 16,
   "id": "ba16cd99",
   "metadata": {},
   "outputs": [],
   "source": [
    "# df3 = pd.read_csv('pnl_op.csv')"
   ]
  },
  {
   "cell_type": "code",
   "execution_count": 17,
   "id": "4736e4d5",
   "metadata": {},
   "outputs": [],
   "source": [
    "# newExgen1=[['A1', 'Base cargo no parcel option terms'], \n",
    "#           ['A2', 'Base cargo name'],['B2', 'Base cargo concatenated terms'],['C2', 'Base cargo IMOS estimate'],['D1', 'Base cargo no parcel option prices'],\n",
    "#            ['D2', t1],\n",
    "#            ['E2', t2],['F2', t3],\n",
    "#            ['G1', 'Base cargo parcel option discounts/prices'],\n",
    "#            ['G2', t1],['H2', t2],['I2', t3],\n",
    "#            ['J1', 'Top-off cargo economical stem no parcel option prices'],['J2', 'Top-off cargo IMOS estimate'],\n",
    "#           ['K2', t1],['L2', t2],\n",
    "#           ['M2', t3],\n",
    "#           ['N1', 'Top-off cargo w/parcel option discounts'],\n",
    "#           ['N2', t1],\n",
    "#           ['O2', t2],\n",
    "#           ['P2', t3],\n",
    "#           ['Q1', 'Parcel calc terms'],\n",
    "#           ['Q2', 'Parcel calc name'],\n",
    "#           ['R2', 'Parcel calc concatenated terms'],\n",
    "#           ['S2', 'Parcel calc IMOS estimate'],\n",
    "#           ['T1', 'Parcel calc P&L'],\n",
    "#           ['T2', t1],\n",
    "#           ['U2', t2],\n",
    "#           ['V2', t3],\n",
    "#           ['W1', 'Parcel calc INPUT P&L'], \n",
    "#            ['W2', t1],\n",
    "#            ['X2', t2],['Y2', t3],\n",
    "#            ['Z1', 'Parcel calc top-off parcel option PnL equivalent discount'],\n",
    "#            ['Z2', t1], ['AA2', t2],['AB2', t3]]\n",
    "          "
   ]
  },
  {
   "cell_type": "code",
   "execution_count": 18,
   "id": "0471d3da",
   "metadata": {},
   "outputs": [],
   "source": [
    "# newExgen=[['A1', 'Customer terms'], ['A2', 'Name'],['B2', 'Report'],['C2', 'Cargo'],['D2', 'Contractual qty(MT)'],['E2', 'Tolerance +/-(%)'],['F2', 'Quantity option'],['G2', 'Stow factor(cbft/mt)'],['H2', 'Load port'],['I2', 'Load rate(MT/day)'],['J2', 'Load terms'],['K2', 'Load draft(m)'],['L2', 'No. of berths'],['M2', 'Use cranes load'],['N2', 'Discharge port'],['O2', 'Discharge rate(MT/day)'],['P2', 'Discharge terms'],['Q2', 'Discharge draft(m)'],['R2', 'No. of berths'],['S2', 'Use cranes disch'],['T2', 'Voyage sale addr comm(%)'],['U2', 'Voyage sale broker comm(%)'],['V2', 'Option part cargo'],['W1', 'Customer prices'],['W2', t1],['X2', t2],['Y2', t3]]"
   ]
  },
  {
   "cell_type": "code",
   "execution_count": 19,
   "id": "c4b8e8f5",
   "metadata": {},
   "outputs": [],
   "source": [
    "# for i in range(len(newExgen)):\n",
    "#     worksheet1.write(newExgen[i][0],newExgen[i][1])"
   ]
  },
  {
   "cell_type": "code",
   "execution_count": 20,
   "id": "c871afad",
   "metadata": {},
   "outputs": [],
   "source": [
    "# newExgen1=[['A1', 'Base cargo no parcel option terms'], \n",
    "#           ['A2', 'Base cargo name'],['B2', 'Base cargo concatenated terms'],['C2', 'Base cargo IMOS estimate'],['D1', 'Base cargo no parcel option prices'],\n",
    "#            ['D2', t1],\n",
    "#            ['E2', t2],['F2', t3],\n",
    "#            ['G1', 'Base cargo parcel option discounts/prices'],\n",
    "#            ['G2', t1],['H2', t2],['I2', t3],\n",
    "#            ['J1', 'Top-off cargo economical stem no parcel option prices'],['J2', 'Top-off cargo IMOS estimate'],\n",
    "#           ['K2', t1],['L2', t2],\n",
    "#           ['M2', t3],\n",
    "#           ['N1', 'Top-off cargo w/parcel option discounts'],\n",
    "#           ['N2', t1],\n",
    "#           ['O2', t2],\n",
    "#           ['P2', t3],\n",
    "#           ['Q1', 'Parcel calc terms'],\n",
    "#           ['Q2', 'Parcel calc name'],\n",
    "#           ['R2', 'Parcel calc concatenated terms'],\n",
    "#           ['S2', 'Parcel calc IMOS estimate'],\n",
    "#           ['T1', 'Parcel calc P&L'],\n",
    "#           ['T2', t1],\n",
    "#           ['U2', t2],\n",
    "#           ['V2', t3],\n",
    "#           ['W1', 'Parcel calc INPUT P&L'], \n",
    "#            ['W2', t1],\n",
    "#            ['X2', t2],['Y2', t3],\n",
    "#            ['Z1', 'Parcel calc top-off parcel option PnL equivalent discount'],\n",
    "#            ['Z2', t1], ['AA2', t2],['AB2', t3]]\n",
    "          "
   ]
  },
  {
   "cell_type": "code",
   "execution_count": 21,
   "id": "3c70b1db",
   "metadata": {},
   "outputs": [],
   "source": [
    "# df3"
   ]
  },
  {
   "cell_type": "code",
   "execution_count": 22,
   "id": "56e785bc",
   "metadata": {},
   "outputs": [],
   "source": [
    "# df3 = pd.read_csv('pnl_op.csv')"
   ]
  },
  {
   "cell_type": "code",
   "execution_count": 23,
   "id": "7941cf5a",
   "metadata": {},
   "outputs": [],
   "source": [
    "# df1"
   ]
  },
  {
   "cell_type": "code",
   "execution_count": 24,
   "id": "3844aece",
   "metadata": {},
   "outputs": [],
   "source": [
    "# df5['absolute_time_bucket_start'] = df5['absolute_time_bucket_start'].dt.strftime('%d_%m_%Y')"
   ]
  },
  {
   "cell_type": "code",
   "execution_count": 25,
   "id": "2f05e023",
   "metadata": {},
   "outputs": [],
   "source": [
    "# worksheet1.write('A1', 'Customer terms')\n",
    "# worksheet1.write('A2', 'Name')\n",
    "# worksheet1.write('B2', 'Report')\n",
    "# worksheet1.write('C2', 'Cargo')\n",
    "# worksheet1.write('D2', 'Contractual qty(MT)')\n",
    "# worksheet1.write('E2', 'Tolerance +/-(%)')\n",
    "# worksheet1.write('F2', 'Quantity option')\n",
    "# worksheet1.write('G2', 'Stow factor(cbft/mt)')\n",
    "# worksheet1.write('H2', 'Load port')\n",
    "# worksheet1.write('I2', 'Load rate(MT/day)')\n",
    "# worksheet1.write('J2', 'Load terms')\n",
    "# worksheet1.write('K2', 'Load draft(m)')\n",
    "# worksheet1.write('L2', 'No. of berths')\n",
    "# worksheet1.write('M2', 'Use cranes load')\n",
    "# worksheet1.write('N2', 'Discharge port')\n",
    "# worksheet1.write('O2', 'Discharge rate(MT/day)')\n",
    "# worksheet1.write('P2', 'Discharge terms')\n",
    "# worksheet1.write('Q2', 'Discharge draft(m)')\n",
    "# worksheet1.write('R2', 'No. of berths')\n",
    "# worksheet1.write('S2', 'Use cranes disch')\n",
    "# worksheet1.write('T2', 'Voyage sale addr comm(%)')\n",
    "# worksheet1.write('U2', 'Voyage sale broker comm(%)')\n",
    "# worksheet1.write('V2', 'Option part cargo')\n"
   ]
  },
  {
   "cell_type": "code",
   "execution_count": 26,
   "id": "29a36727",
   "metadata": {},
   "outputs": [],
   "source": [
    "# df1 = pd.read_excel('otTraderPanel.xlsx')"
   ]
  },
  {
   "cell_type": "code",
   "execution_count": 27,
   "id": "1c34b119",
   "metadata": {},
   "outputs": [],
   "source": [
    "# xls = pd.ExcelFile('OT_trader_new2.xlsx')\n",
    "# df5 = pd.read_excel(xls, 'Time Buckets')"
   ]
  },
  {
   "cell_type": "code",
   "execution_count": 28,
   "id": "decc3f18",
   "metadata": {},
   "outputs": [],
   "source": [
    "# worksheet2.write('A1', 'Base cargo no parcel option terms')\n",
    "# worksheet2.write('A2', 'Base cargo name')\n",
    "# worksheet2.write('B2', 'Base cargo concatenated terms')\n",
    "# worksheet2.write('C2', 'Base cargo IMOS estimate')\n",
    "# worksheet2.write('D1', 'Base cargo no parcel option prices')\n",
    "# worksheet2.write('D2', '01-11-2022')\n",
    "# worksheet2.write('E2', '01-12-2022')\n",
    "# worksheet2.write('F2', '01-01-2023')\n",
    "# worksheet2.write('G1', 'Base cargo parcel option discounts/prices')\n",
    "# worksheet2.write('G2', '01-11-2022')\n",
    "# worksheet2.write('H2', '01-12-2022')\n",
    "# worksheet2.write('I2', '01-01-2023')\n",
    "# worksheet2.write('J1', 'Top-off cargo economical stem no parcel option prices')\n",
    "# worksheet2.write('J2', 'Top-off cargo IMOS estimate')\n",
    "# worksheet2.write('K2', '01-11-2022')\n",
    "# worksheet2.write('L2', '01-12-2022')\n",
    "# worksheet2.write('M2', '01-01-2023')\n",
    "# worksheet2.write('N1', 'Top-off cargo w/parcel option discounts')\n",
    "# worksheet2.write('N2', '01-11-2022')\n",
    "# worksheet2.write('O2', '01-12-2022')\n",
    "# worksheet2.write('P2', '01-01-2023')\n",
    "# worksheet2.write('Q1', 'Parcel calc terms')\n",
    "# worksheet2.write('Q2', 'Parcel calc name')\n",
    "# worksheet2.write('R2', 'Parcel calc concatenated terms')\n",
    "# worksheet2.write('S2', 'Parcel calc IMOS estimate')\n",
    "# worksheet2.write('T1', 'Parcel calc P&L')\n",
    "# worksheet2.write('T2', '01-11-2022')\n",
    "# worksheet2.write('U2', '01-12-2022')\n",
    "# worksheet2.write('V2', '01-01-2023')\n",
    "# worksheet2.write('W1', 'Parcel calc INPUT P&L')\n",
    "# worksheet2.write('W2', '01-10-2022')\n",
    "# worksheet2.write('X2', '01-11-2022')\n",
    "# worksheet2.write('Y2', '01-01-2023')\n",
    "# worksheet2.write('W1', 'Parcel calc top-off parcel option PnL equivalent discount')\n",
    "# worksheet2.write('Z2', '01-11-2022')\n",
    "# worksheet2.write('AA2', '01-12-2022')\n",
    "# worksheet2.write('AB2', '01-01-2023')\n"
   ]
  },
  {
   "cell_type": "code",
   "execution_count": 29,
   "id": "5dee2b59",
   "metadata": {},
   "outputs": [],
   "source": [
    "# worksheet1.write('W1', 'Customer prices')\n",
    "# worksheet1.write('W2', '01-11-2022')\n",
    "# worksheet1.write('X2', '01-12-2022')\n",
    "# worksheet1.write('Y2', '01-01-2023')"
   ]
  }
 ],
 "metadata": {
  "kernelspec": {
   "display_name": "Python 3 (ipykernel)",
   "language": "python",
   "name": "python3"
  },
  "language_info": {
   "codemirror_mode": {
    "name": "ipython",
    "version": 3
   },
   "file_extension": ".py",
   "mimetype": "text/x-python",
   "name": "python",
   "nbconvert_exporter": "python",
   "pygments_lexer": "ipython3",
   "version": "3.8.0"
  }
 },
 "nbformat": 4,
 "nbformat_minor": 5
}
