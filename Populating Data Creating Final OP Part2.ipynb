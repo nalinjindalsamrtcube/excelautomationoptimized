{
 "cells": [
  {
   "cell_type": "code",
   "execution_count": 1,
   "id": "a628b714",
   "metadata": {},
   "outputs": [],
   "source": [
    "import pandas as pd"
   ]
  },
  {
   "cell_type": "code",
   "execution_count": 2,
   "id": "6fc5ee66",
   "metadata": {},
   "outputs": [],
   "source": [
    "import xlsxwriter\n",
    "import openpyxl\n",
    "from openpyxl.styles import PatternFill\n",
    "from openpyxl import Workbook\n",
    "import openpyxl\n",
    "from openpyxl.styles import Font\n"
   ]
  },
  {
   "cell_type": "code",
   "execution_count": 3,
   "id": "7886009a",
   "metadata": {},
   "outputs": [],
   "source": [
    "xls = pd.ExcelFile('otTraderPanel.xlsx')\n",
    "df1 = pd.read_excel(xls, 'Sheet 1',header=[0,1])\n",
    "df2 = pd.read_excel(xls, 'Sheet 2',header=[0,1])"
   ]
  },
  {
   "cell_type": "code",
   "execution_count": 4,
   "id": "2cb0a384",
   "metadata": {},
   "outputs": [],
   "source": [
    "df3 = pd.read_csv('output5.csv')"
   ]
  },
  {
   "cell_type": "code",
   "execution_count": 5,
   "id": "7ae75ee2",
   "metadata": {},
   "outputs": [],
   "source": [
    "def functionName1():\n",
    "    \n",
    "    commTerm1='Customer terms'\n",
    "    arr1=[  'Name'\n",
    "                , 'Report'\n",
    "                , 'Cargo',\n",
    "#                 , 'Contractual qty(MT)'\n",
    "#                 , 'Tolerance +/-(%)'\n",
    "#                 , 'Quantity option'\n",
    "                'Stow factor(cbft/mt)'\n",
    "                , 'Load port'\n",
    "                , 'Load rate(MT/day)'\n",
    "                , 'Load terms'\n",
    "                , 'Load draft(m)'\n",
    "#                 , 'No. of berths'\n",
    "                , 'Use cranes load'\n",
    "                , 'Discharge port'\n",
    "                , 'Discharge rate(MT/day)'\n",
    "                , 'Discharge terms'\n",
    "                , 'Discharge draft(m)'\n",
    "#                 , 'No. of berths'\n",
    "                , 'Use cranes disch'\n",
    "                , 'Voyage sale addr comm(%)'\n",
    "                , 'Voyage sale broker comm(%)' \n",
    "#           ,'Option part cargo'\n",
    "         ]\n",
    "    \n",
    "\n",
    "    \n",
    "    for i in range(len(arr1)):\n",
    "        df1[commTerm1, arr1[i]]= df3[arr1[i]]\n",
    "    \n",
    "    \n",
    "    \n"
   ]
  },
  {
   "cell_type": "code",
   "execution_count": 6,
   "id": "25214cad",
   "metadata": {},
   "outputs": [],
   "source": [
    "def functionName2():\n",
    "    commTerm2='Customer prices'\n",
    "#     arr3=[]\n",
    "    dates=['01-12-2022', '01-01-2023', '01-02-2023', '01-03-2023', '01-04-2023']\n",
    "    arr4=(df3.filter(like='Customer_price').columns)\n",
    "    \n",
    "    for i in range(len(dates)):\n",
    "        df1[commTerm2, dates[i]]= df3[arr4[i]]\n",
    "    \n",
    "    \n",
    "    "
   ]
  },
  {
   "cell_type": "code",
   "execution_count": 7,
   "id": "1450bfd0",
   "metadata": {},
   "outputs": [],
   "source": [
    "def functionName3():\n",
    "    commTerm3='Base cargo no parcel option terms'\n",
    "    arr5=['Base cargo name', 'Base cargo concatenated terms', 'Base cargo IMOS estimate']\n",
    "    \n",
    "    for i in range(len(arr5)):\n",
    "        df2[commTerm3, arr5[i]]= df3[arr5[i]]\n",
    "    \n",
    "    \n",
    "    \n"
   ]
  },
  {
   "cell_type": "code",
   "execution_count": 8,
   "id": "7822f88d",
   "metadata": {},
   "outputs": [],
   "source": [
    "def functionName4():\n",
    "    commTerm4='Base cargo no parcel option prices'\n",
    "    dates=['01-12-2022', '01-01-2023', '01-02-2023', '01-03-2023', '01-04-2023']\n",
    "    arr8=[]\n",
    "    arr8=(df3.filter(like='base price').columns)\n",
    "    for i in range(len(dates)):\n",
    "        df2[commTerm4, dates[i]]= df3[arr8[i]]\n",
    "    \n",
    "    \n",
    " "
   ]
  },
  {
   "cell_type": "code",
   "execution_count": 9,
   "id": "ac3720d5",
   "metadata": {},
   "outputs": [],
   "source": [
    "def functionName5():\n",
    "    commTerm5='Base cargo parcel option discounts/prices'\n",
    "    dates=['01-12-2022', '01-01-2023', '01-02-2023', '01-03-2023', '01-04-2023']\n",
    "    arr10=[]\n",
    "    arr10=(df3.filter(like='discount_base').columns)\n",
    "    for i in range(len(dates)):\n",
    "        df2[commTerm5, dates[i]]= df3[arr10[i]]\n",
    "    \n",
    "    \n"
   ]
  },
  {
   "cell_type": "code",
   "execution_count": 10,
   "id": "09ae77a4",
   "metadata": {},
   "outputs": [],
   "source": [
    "def functionName6():\n",
    "    commTerm6='Top-off cargo economical stem no parcel option prices'\n",
    "    arr11=['Top-off cargo IMOS estimate']\n",
    "#     arr12=['Top-off cargo IMOS estimate']\n",
    "    dates=['01-12-2022', '01-01-2023', '01-02-2023', '01-03-2023', '01-04-2023']\n",
    "    arr12=(df3.filter(like='top off price').columns)\n",
    "    \n",
    "    df2[commTerm6,arr11[0]]=df3[arr11[0]]\n",
    "    for i in range(len(dates)):\n",
    "        df2[commTerm6, dates[i]]= df3[arr12[i]]"
   ]
  },
  {
   "cell_type": "code",
   "execution_count": 11,
   "id": "cd171f20",
   "metadata": {},
   "outputs": [],
   "source": [
    "def functionName7():\n",
    "    commTerm7='Top-off cargo w/parcel option discounts' \n",
    "    arr14=[]\n",
    "    dates=['01-12-2022', '01-01-2023', '01-02-2023', '01-03-2023', '01-04-2023']\n",
    "    arr14=(df3.filter(like='discount_top off').columns)\n",
    "    for i in range(len(dates)):\n",
    "        df2[commTerm7, dates[i]]= df3[arr14[i]]\n",
    "    "
   ]
  },
  {
   "cell_type": "code",
   "execution_count": 12,
   "id": "e21bc3c8",
   "metadata": {},
   "outputs": [],
   "source": [
    "def functionName8():\n",
    "    commTerm8='Parcel calc terms'\n",
    "    arr15=['Parcel calc name'\n",
    "    , 'Parcel calc concatenated terms'\n",
    "    , 'Parcel calc IMOS estimate']\n",
    "    \n",
    "    for i in range(len(arr15)):\n",
    "        df2[commTerm8, arr15[i]]= df3[arr15[i]]\n",
    "\n"
   ]
  },
  {
   "cell_type": "code",
   "execution_count": 13,
   "id": "ed48ebbe",
   "metadata": {},
   "outputs": [],
   "source": [
    "def functionName9():\n",
    "    commTerm9='Parcel calc P&L'\n",
    "    arr18=[]\n",
    "    dates=['01-12-2022', '01-01-2023', '01-02-2023', '01-03-2023', '01-04-2023']\n",
    "    \n",
    "    arr18=(df3.filter(like='_Parcel_calc_P&L_').columns)\n",
    "    \n",
    "    for i in range(len(dates)):\n",
    "        df2[commTerm9, dates[i]]= df3[arr18[i]]\n"
   ]
  },
  {
   "cell_type": "code",
   "execution_count": 14,
   "id": "8d34ddf5",
   "metadata": {},
   "outputs": [],
   "source": [
    "def functionName10():\n",
    "    commTerm10='Parcel calc INPUT P&L'\n",
    "    arr20=[]\n",
    "    dates=['01-12-2022', '01-01-2023', '01-02-2023', '01-03-2023', '01-04-2023']\n",
    "    arr20=(df3.filter(like='01').columns)\n",
    "    for i in range(len(dates)):\n",
    "        df2[commTerm2, dates[i]]= df3[arr20[i]]"
   ]
  },
  {
   "cell_type": "code",
   "execution_count": 15,
   "id": "5f0f0dc4",
   "metadata": {},
   "outputs": [],
   "source": [
    "def functionName11():\n",
    "    commTerm11='Parcel calc top-off parcel option PnL equivalent discount'\n",
    "    arr21=[]\n",
    "    dates=['01-12-2022', '01-01-2023', '01-02-2023', '01-03-2023', '01-04-2023']\n",
    "    arr22=[]\n",
    "    arr22=(df3.filter(like='01').columns)\n",
    "    for i in range(len(dates)):\n",
    "        df2[commTerm2, dates[i]]= df3[arr4[i]]\n",
    "    "
   ]
  },
  {
   "cell_type": "code",
   "execution_count": 16,
   "id": "9c3c9e3e",
   "metadata": {},
   "outputs": [],
   "source": [
    "def functionName12():\n",
    "    functionName1(),\n",
    "    functionName2(),\n",
    "    functionName3(),\n",
    "    functionName4(),\n",
    "    functionName5(),\n",
    "    functionName6(),\n",
    "    functionName7(),\n",
    "    functionName8(),\n",
    "    functionName9(),\n",
    "#     functionName10(),\n",
    "#     functionName11()\n",
    "    "
   ]
  },
  {
   "cell_type": "code",
   "execution_count": 17,
   "id": "e8e9e9cd",
   "metadata": {},
   "outputs": [],
   "source": [
    "functionName12()"
   ]
  },
  {
   "cell_type": "code",
   "execution_count": 18,
   "id": "9a98ae64",
   "metadata": {},
   "outputs": [],
   "source": [
    "with pd.ExcelWriter('finalOTtrader.xlsx') as writer:  \n",
    "    df1.to_excel(writer, sheet_name='Sheet 1')\n",
    "    df2.to_excel(writer, sheet_name='Sheet 2')"
   ]
  },
  {
   "cell_type": "code",
   "execution_count": null,
   "id": "b198570d",
   "metadata": {},
   "outputs": [],
   "source": []
  },
  {
   "cell_type": "code",
   "execution_count": null,
   "id": "cd22bd06",
   "metadata": {},
   "outputs": [],
   "source": []
  },
  {
   "cell_type": "code",
   "execution_count": null,
   "id": "48b0ca67",
   "metadata": {},
   "outputs": [],
   "source": []
  },
  {
   "cell_type": "code",
   "execution_count": null,
   "id": "f7e9c662",
   "metadata": {},
   "outputs": [],
   "source": []
  },
  {
   "cell_type": "code",
   "execution_count": null,
   "id": "9290fcca",
   "metadata": {},
   "outputs": [],
   "source": []
  },
  {
   "cell_type": "code",
   "execution_count": null,
   "id": "2ad6a233",
   "metadata": {},
   "outputs": [],
   "source": []
  },
  {
   "cell_type": "code",
   "execution_count": null,
   "id": "d73fcb3a",
   "metadata": {},
   "outputs": [],
   "source": []
  },
  {
   "cell_type": "code",
   "execution_count": null,
   "id": "6c90d26a",
   "metadata": {},
   "outputs": [],
   "source": []
  },
  {
   "cell_type": "code",
   "execution_count": null,
   "id": "37e4db6b",
   "metadata": {},
   "outputs": [],
   "source": []
  },
  {
   "cell_type": "code",
   "execution_count": null,
   "id": "9fc51218",
   "metadata": {},
   "outputs": [],
   "source": []
  },
  {
   "cell_type": "code",
   "execution_count": null,
   "id": "c6f236b2",
   "metadata": {},
   "outputs": [],
   "source": [
    "# df2\n",
    "# baseCargoOptionTermMatch=[['Base cargo name'],\n",
    "# [ 'Base cargo concatenated terms'],\n",
    "# [ 'Base cargo IMOS estimate']]\n"
   ]
  },
  {
   "cell_type": "code",
   "execution_count": null,
   "id": "d5b99ec5",
   "metadata": {},
   "outputs": [],
   "source": [
    "\n",
    "\n",
    "# df1.loc.__setitem__((slice(None), ('Customer terms', 'Name')), df3['Name'])\n",
    "# df1.loc.__setitem__((slice(None), ('Customer terms', 'Report')), df3['Report'])\n",
    "# df1.loc.__setitem__((slice(None), ('Customer terms', 'Cargo')), df3['Cargo'])\n",
    "# # df1.loc.__setitem__((slice(None), ('Customer terms', 'Contractual qty(MT)')), df3['comm'])\n",
    "# # df1.loc.__setitem__((slice(None), ('Customer terms', 'Tolerance +/-(%)')), df3['comm'])\n",
    "# # df1.loc.__setitem__((slice(None), ('Customer terms', 'Quantity option')), df3['comm'])\n",
    "# df1.loc.__setitem__((slice(None), ('Customer terms', 'Stow factor(cbft/mt)')), df3['Stow factor(cbft/mt)'])\n",
    "# df1.loc.__setitem__((slice(None), ('Customer terms', 'Load port')), df3['Load port'])\n",
    "# df1.loc.__setitem__((slice(None), ('Customer terms', 'Load rate(MT/day)')), df3['Load rate(MT/day)'])\n",
    "# df1.loc.__setitem__((slice(None), ('Customer terms', 'Load terms')), df3['Load terms'])\n",
    "# df1.loc.__setitem__((slice(None), ('Customer terms', 'Load draft(m)')), df3['Load draft(m)'])\n",
    "# # df1.loc.__setitem__((slice(None), ('Customer terms', 'No. of berths')), df3['comm'])\n",
    "# df1.loc.__setitem__((slice(None), ('Customer terms', 'Use cranes load')), df3['Use cranes load'])\n",
    "# df1.loc.__setitem__((slice(None), ('Customer terms', 'Discharge port')), df3['Discharge port'])\n",
    "# df1.loc.__setitem__((slice(None), ('Customer terms', 'Discharge rate(MT/day)')), df3['Discharge rate(MT/day)'])\n",
    "# df1.loc.__setitem__((slice(None), ('Customer terms', 'Discharge terms')), df3['Discharge terms'])\n",
    "# df1.loc.__setitem__((slice(None), ('Customer terms', 'Discharge draft(m)')), df3['Discharge draft(m)'])\n",
    "# # df1.loc.__setitem__((slice(None), ('Customer terms', 'No. of berths')), df3['comm'])\n",
    "# df1.loc.__setitem__((slice(None), ('Customer terms', 'Use cranes disch')), df3['Use cranes disch'])\n",
    "# df1.loc.__setitem__((slice(None), ('Customer terms', 'Voyage sale addr comm(%)')), df3['Voyage sale addr comm(%)'])\n",
    "# df1.loc.__setitem__((slice(None), ('Customer terms', 'Voyage sale broker comm(%)')), df3['Voyage sale broker comm(%)'])\n",
    "# # df1.loc.__setitem__((slice(None), ('Customer terms', 'Option part cargo')), df3['comm'])\n",
    "\n",
    "# df1.loc.__setitem__((slice(None), ('Customer prices', '01-11-2022' )), df3['Customer price_01-12-2022'])\n",
    "# df1.loc.__setitem__((slice(None), ('Customer prices', '01-12-2022')), df3['Customer price_01-01-2023'])\n",
    "# df1.loc.__setitem__((slice(None), ('Customer prices', '01-01-2023')), df3['Customer price_01-02-2023'])\n",
    "  \n",
    "                    \n",
    "\n",
    "                    \n",
    "        "
   ]
  },
  {
   "cell_type": "code",
   "execution_count": null,
   "id": "d9fc7b9a",
   "metadata": {},
   "outputs": [],
   "source": [
    "# list1=[]\n",
    "# list1=(df3.filter(like='01').columns)"
   ]
  },
  {
   "cell_type": "code",
   "execution_count": null,
   "id": "1f826059",
   "metadata": {},
   "outputs": [],
   "source": [
    "# list1=(df3.filter(like='01').columns)"
   ]
  },
  {
   "cell_type": "code",
   "execution_count": null,
   "id": "25c77dcd",
   "metadata": {},
   "outputs": [],
   "source": [
    "# len(list1)"
   ]
  },
  {
   "cell_type": "code",
   "execution_count": null,
   "id": "a08734f6",
   "metadata": {},
   "outputs": [],
   "source": [
    "# df1['Customer terms', 'Name']= df3['Name']\n",
    "# df1['Customer terms', 'Name']=df3['Name'])\n",
    "# df1['Customer terms', 'Report']=df3['Report'])\n",
    "# df1['Customer terms', 'Cargo']=df3['Cargo'])\n",
    "# # df1['Customer terms', 'Contractual qty(MT)']=df3['comm'])\n",
    "# # df1['Customer terms', 'Tolerance +/-(%)']=df3['comm'])\n",
    "# # df1['Customer terms', 'Quantity option']=df3['comm'])\n",
    "# df1['Customer terms', 'Stow factor(cbft/mt)']=df3['Stow factor(cbft/mt)'])\n",
    "# df1['Customer terms', 'Load port']=df3['Load port'])\n",
    "# df1['Customer terms', 'Load rate(MT/day)']=df3['Load rate(MT/day)'])\n",
    "# df1['Customer terms', 'Load terms']=df3['Load terms'])\n",
    "# df1['Customer terms', 'Load draft(m)']=df3['Load draft(m)'])\n",
    "# # df1['Customer terms', 'No. of berths']=df3['comm'])\n",
    "# df1['Customer terms', 'Use cranes load']=df3['Use cranes load'])\n",
    "# df1['Customer terms', 'Discharge port']=df3['Discharge port'])\n",
    "# df1['Customer terms', 'Discharge rate(MT/day)']=df3['Discharge rate(MT/day)'])\n",
    "# df1['Customer terms', 'Discharge terms']=df3['Discharge terms'])\n",
    "# df1['Customer terms', 'Discharge draft(m)']=df3['Discharge draft(m)'])\n",
    "# # df1['Customer terms', 'No. of berths']=df3['comm'])\n",
    "# df1['Customer terms', 'Use cranes disch']=df3['Use cranes disch'])\n",
    "# df1['Customer terms', 'Voyage sale addr comm(%)']=df3['Voyage sale addr comm(%)'])\n",
    "# df1['Customer terms', 'Voyage sale broker comm(%)']=df3['Voyage sale broker comm(%)'])\n",
    "# # df1['Customer terms', 'Option part cargo']=df3['comm'])\n",
    "\n",
    "# df1['Customer prices', '01-11-2022' ]=df3['Customer price_01-12-2022']\n",
    "# df1['Customer prices', '01-12-2022']=df3['Customer price_01-01-2023']\n",
    "# df1['Customer prices', '01-01-2023']=df3['Customer price_01-02-2023']\n"
   ]
  },
  {
   "cell_type": "code",
   "execution_count": null,
   "id": "a166a664",
   "metadata": {},
   "outputs": [],
   "source": [
    "\n",
    "# df1.loc.__setitem__((slice(None), ('Customer terms', 'Name')), df3['comm'])\n",
    "# df1.loc.__setitem__((slice(None), ('Customer terms', 'Report')), df3['comm'])\n",
    "\n",
    "# df1.loc.__setitem__((slice(None), ('Customer terms', 'Cargo')), df3['comm'])\n",
    "\n",
    "# df1.loc.__setitem__((slice(None), ('Customer terms', 'Contractual qty(MT)')), df3['comm'])\n",
    "\n",
    "# df1.loc.__setitem__((slice(None), ('Customer terms', 'Tolerance +/-(%)')), df3['comm'])\n",
    "\n",
    "# df1.loc.__setitem__((slice(None), ('Customer terms', 'Quantity option')), df3['comm'])\n",
    "\n",
    "# df1.loc.__setitem__((slice(None), ('Customer terms', 'Stow factor(cbft/mt)')), df3['comm'])\n",
    "\n",
    "# df1.loc.__setitem__((slice(None), ('Customer terms', 'Load port')), df3['comm'])\n",
    "\n",
    "# df1.loc.__setitem__((slice(None), ('Customer terms', 'Load rate(MT/day)')), df3['comm'])\n",
    "\n",
    "# df1.loc.__setitem__((slice(None), ('Customer terms', 'Load terms')), df3['comm'])\n",
    "\n",
    "# df1.loc.__setitem__((slice(None), ('Customer terms', 'Load draft(m)')), df3['comm'])\n",
    "\n",
    "# df1.loc.__setitem__((slice(None), ('Customer terms', 'No. of berths')), df3['comm'])\n",
    "\n",
    "# df1.loc.__setitem__((slice(None), ('Customer terms', 'Use cranes load')), df3['comm'])\n",
    "\n",
    "# df1.loc.__setitem__((slice(None), ('Customer terms', 'Discharge port')), df3['comm'])\n",
    "\n",
    "# df1.loc.__setitem__((slice(None), ('Customer terms', 'Discharge rate(MT/day)')), df3['comm'])\n",
    "\n",
    "# df1.loc.__setitem__((slice(None), ('Customer terms', 'Discharge terms')), df3['comm'])\n",
    "\n",
    "# df1.loc.__setitem__((slice(None), ('Customer terms', 'Discharge draft(m)')), df3['comm'])\n",
    "\n",
    "# df1.loc.__setitem__((slice(None), ('Customer terms', 'No. of berths')), df3['comm'])\n",
    "# df1.loc.__setitem__((slice(None), ('Customer terms', 'Use cranes disch')), df3['comm'])\n",
    "# df1.loc.__setitem__((slice(None), ('Customer terms', 'Voyage sale addr comm(%)')), df3['Voyage sale addr comm(%)'])\n",
    "# df1.loc.__setitem__((slice(None), ('Customer terms', 'Voyage sale broker comm(%)')), df3['Voyage sale broker comm(%)'])\n",
    "# df1.loc.__setitem__((slice(None), ('Customer terms', 'Option part cargo')), df3['comm'])\n",
    "\n",
    "\n",
    "\n"
   ]
  },
  {
   "cell_type": "code",
   "execution_count": null,
   "id": "c0708539",
   "metadata": {},
   "outputs": [],
   "source": [
    "# df1"
   ]
  },
  {
   "cell_type": "code",
   "execution_count": null,
   "id": "d75cfde4",
   "metadata": {},
   "outputs": [],
   "source": [
    "# df1"
   ]
  },
  {
   "cell_type": "code",
   "execution_count": null,
   "id": "91710778",
   "metadata": {},
   "outputs": [],
   "source": [
    "# df2['Base cargo no parcel option terms', 'Base cargo name']=df3['Base cargo name']\n",
    "# df2['Base cargo no parcel option terms', 'Base cargo concatenated terms']=df3['Base cargo concatenated terms']\n",
    "# df2['Base cargo no parcel option terms', 'Base cargo IMOS estimate']=df3['Base cargo IMOS estimate']\n",
    "\n",
    "# df2['Base cargo no parcel option prices', '01-12-2022']=df3['01-12-2022_base price']\n",
    "# df2['Base cargo no parcel option prices', '01-01-2023']=df3['01-01-2023_base price']\n",
    "# df2['Base cargo no parcel option prices', '01-02-2023']=df3['01-02-2023_base price']\n",
    "\n",
    "# df2['Base cargo parcel option discounts/prices', '01-12-2022']=df3['01-12-2022_discount_base']\n",
    "# df2['Base cargo parcel option discounts/prices', '01-01-2023']=df3['01-01-2023_discount_base']\n",
    "# df2['Base cargo parcel option discounts/prices', '01-02-2023']=df3['01-02-2023_discount_base']\n",
    "\n",
    "# df2['Top-off cargo economical stem no parcel option prices', 'Top-off cargo IMOS estimate']=df3['Top-off cargo IMOS estimate']\n",
    "# df2['Top-off cargo economical stem no parcel option prices', '01-12-2022']=df3['01-12-2022_top off price']\n",
    "# df2['Top-off cargo economical stem no parcel option prices', '01-01-2023']=df3['01-01-2023_top off price']\n",
    "# df2['Top-off cargo economical stem no parcel option prices', '01-02-2023']=df3['01-02-2023_top off price']\n",
    "\n",
    "# df2['Top-off cargo w/parcel option discounts', '01-12-2022']=df3['01-12-2022_discount_top off']\n",
    "# df2['Top-off cargo w/parcel option discounts', '01-01-2023']=df3['01-01-2023_discount_top off']\n",
    "# df2['Top-off cargo w/parcel option discounts', '01-02-2023']=df3['01-02-2023_discount_top off']\n",
    "\n",
    "# df2['Parcel calc terms', 'Parcel calc name']=df3['Parcel calc name']\n",
    "# df2['Parcel calc terms', 'Parcel calc concatenated terms']=df3['Parcel calc concatenated terms']\n",
    "# df2['Parcel calc terms', 'Parcel calc IMOS estimate']=df3['Parcel calc IMOS estimate']\n",
    "\n",
    "# df2['Parcel calc P&L', '01-12-2022']=df3['Parcel calc P&L_01-12-2022']\n",
    "# df2['Parcel calc P&L', '01-01-2023']=df3['Parcel calc P&L_01-01-2023']\n",
    "# df2['Parcel calc P&L', '01-02-2023']=df3['Parcel calc P&L_01-02-2023']\n",
    "\n",
    "# df2['Parcel calc INPUT P&L', '01-12-2022']=df3['comm']\n",
    "# df2['Parcel calc INPUT P&L', '01-01-2023']=df3['comm']\n",
    "# df2['Parcel calc INPUT P&L', '01-02-2023']=df3['Parcel calc P&L_01-02-2023']\n",
    "\n",
    "# df2['Parcel calc top-off parcel option PnL equivalent discount', '01-12-2022']=df3['comm']\n",
    "# df2['Parcel calc top-off parcel option PnL equivalent discount', '01-01-2023']=df3['comm']\n",
    "# df2['Parcel calc top-off parcel option PnL equivalent discount', '01-02-2023']=df3['comm']\n",
    "\n"
   ]
  },
  {
   "cell_type": "code",
   "execution_count": null,
   "id": "e25c5576",
   "metadata": {},
   "outputs": [],
   "source": [
    "# df2.loc.__setitem__((slice(None), ('Base cargo no parcel option terms', 'Base cargo concatenated terms')), df3['comm'])\n",
    "# df2.loc.__setitem__((slice(None), ('Base cargo no parcel option terms', 'Base cargo concatenated terms')), df3['comm'])\n",
    "# df2.loc.__setitem__((slice(None), ('Base cargo no parcel option terms', 'Base cargo concatenated terms')), df3['comm'])\n",
    "# df2.loc.__setitem__((slice(None), ('Base cargo no parcel option terms', 'Base cargo concatenated terms')), df3['comm'])\n",
    "# df2.loc.__setitem__((slice(None), ('Base cargo no parcel option terms', 'Base cargo concatenated terms')), df3['comm'])\n",
    "# df2.loc.__setitem__((slice(None), ('Base cargo no parcel option terms', 'Base cargo concatenated terms')), df3['comm'])\n",
    "# df2.loc.__setitem__((slice(None), ('Base cargo no parcel option terms', 'Base cargo concatenated terms')), df3['comm'])\n",
    "# df2.loc.__setitem__((slice(None), ('Base cargo no parcel option terms', 'Base cargo concatenated terms')), df3['comm'])\n",
    "# df2.loc.__setitem__((slice(None), ('Base cargo no parcel option terms', 'Base cargo concatenated terms')), df3['comm'])\n",
    "# df2.loc.__setitem__((slice(None), ('Base cargo no parcel option terms', 'Base cargo concatenated terms')), df3['comm'])\n",
    "# df2.loc.__setitem__((slice(None), ('Base cargo no parcel option terms', 'Base cargo concatenated terms')), df3['comm'])\n",
    "# df2.loc.__setitem__((slice(None), ('Base cargo no parcel option terms', 'Base cargo concatenated terms')), df3['comm'])\n",
    "# df2.loc.__setitem__((slice(None), ('Base cargo no parcel option terms', 'Base cargo concatenated terms')), df3['comm'])\n",
    "# df2.loc.__setitem__((slice(None), ('Base cargo no parcel option terms', 'Base cargo concatenated terms')), df3['comm'])\n",
    "# df2.loc.__setitem__((slice(None), ('Base cargo no parcel option terms', 'Base cargo concatenated terms')), df3['comm'])\n",
    "# df2.loc.__setitem__((slice(None), ('Base cargo no parcel option terms', 'Base cargo concatenated terms')), df3['comm'])\n",
    "# df2.loc.__setitem__((slice(None), ('Base cargo no parcel option terms', 'Base cargo concatenated terms')), df3['comm'])"
   ]
  },
  {
   "cell_type": "code",
   "execution_count": null,
   "id": "80be6791",
   "metadata": {},
   "outputs": [],
   "source": [
    "# customTermMatch=[['Name'],\n",
    "#                 ['Report'],\n",
    "#                  ['Cargo'],\n",
    "# #                  [''],\n",
    "# #                  [''],\n",
    "# #                  [''],\n",
    "#                  ['Stow factor(cbft/mt)'],\n",
    "#                  ['Load port'],\n",
    "#                  ['Load rate(MT/day)'],\n",
    "#                  ['Load terms'],\n",
    "#                  ['Load draft(m)'],\n",
    "# #                  [''],\n",
    "#                  ['Use cranes load'],\n",
    "#                  ['Discharge port'],\n",
    "#                  ['Discharge rate(MT/day)'],\n",
    "#                  ['Discharge terms'],\n",
    "#                  ['Discharge draft(m)'],\n",
    "# #                  [''],\n",
    "#                  ['Use cranes disch'],\n",
    "#                  ['Voyage sale addr comm(%)'],\n",
    "#                  ['Voyage sale broker comm(%)']\n",
    "# #                  ,\n",
    "# #                  ['']\n",
    "#                 ]\n",
    "# df1['Voyage sale broker comm(%)']=df3['addr_comm']\n",
    "# # df1['Option part cargo']=df3['']\n",
    "# df1['01-11-2022']=df3['Customer price_11/01/2022']\n",
    "# df1['01-12-2022']=df3['Customer price_12/01/2022']\n",
    "# df1['01-01-2023']=df3['Customer price_01/01/2023']"
   ]
  },
  {
   "cell_type": "code",
   "execution_count": null,
   "id": "383bab29",
   "metadata": {},
   "outputs": [],
   "source": [
    "# df1.loc.__setitem__((slice(None), ('Customer terms', 'Voyage sale addr comm(%)')), df3['Voyage sale addr comm(%)'])"
   ]
  },
  {
   "cell_type": "code",
   "execution_count": null,
   "id": "e740d03a",
   "metadata": {},
   "outputs": [],
   "source": [
    "# df1"
   ]
  },
  {
   "cell_type": "code",
   "execution_count": null,
   "id": "9e4ccbdd",
   "metadata": {
    "scrolled": true
   },
   "outputs": [],
   "source": [
    "# # for i in range(len(customTerms)):\n",
    "#     df1.loc.__setitem__((slice(None), ('Customer terms', customTerms[i])), df3[customTermMatch[i]])"
   ]
  },
  {
   "cell_type": "code",
   "execution_count": null,
   "id": "f5055d91",
   "metadata": {},
   "outputs": [],
   "source": [
    "# customPriceDate=[['01-11-2022'], ['01-12-2022'], ['01-01-2023']]"
   ]
  },
  {
   "cell_type": "code",
   "execution_count": null,
   "id": "453eeece",
   "metadata": {},
   "outputs": [],
   "source": [
    "# customPrice=[['Customer price_01-12-2022'],\n",
    "# ['Customer price_01-01-2023'],\n",
    "# ['Customer price_01-02-2023']]\n"
   ]
  },
  {
   "cell_type": "code",
   "execution_count": null,
   "id": "88f353ee",
   "metadata": {},
   "outputs": [],
   "source": [
    "# customTerms=[['Name'],\n",
    "# [ 'Report'],\n",
    "# [ 'Cargo'],\n",
    "# # [ 'Contractual qty(MT)'],\n",
    "# # [ 'Tolerance +/-(%)'],\n",
    "# # [ 'Quantity option'],\n",
    "# [ 'Stow factor(cbft/mt)'],\n",
    "# [ 'Load port'],\n",
    "# [ 'Load rate(MT/day)'],\n",
    "# [ 'Load terms'],\n",
    "# [ 'Load draft(m)'],\n",
    "# # [ 'No. of berths'],\n",
    "# [ 'Use cranes load'],\n",
    "# [ 'Discharge port'],\n",
    "# [ 'Discharge rate(MT/day)'],\n",
    "# [ 'Discharge terms'],\n",
    "# # [ 'Discharge draft(m)'],\n",
    "# [ 'No. of berths'],\n",
    "# [ 'Use cranes disch'],\n",
    "# [ 'Voyage sale addr comm(%)'],\n",
    "# [ 'Voyage sale broker comm(%)'],\n",
    "# # [ 'Option part cargo']\n",
    "#         ]"
   ]
  },
  {
   "cell_type": "code",
   "execution_count": null,
   "id": "b1f94ec7",
   "metadata": {},
   "outputs": [],
   "source": [
    "# for i in range(len(customPriceDate)):\n",
    "#     df1.loc.__setitem__((slice(None), ('Customer prices', customPriceDate[i])), df3[customPrice[i]])\n",
    "# #  df1.loc.__setitem__((slice(None), ('Customer prices', customPriceDate[i])), df3[customPrice[i]])   "
   ]
  },
  {
   "cell_type": "code",
   "execution_count": null,
   "id": "29ded50f",
   "metadata": {},
   "outputs": [],
   "source": [
    "# df1"
   ]
  },
  {
   "cell_type": "code",
   "execution_count": null,
   "id": "98d2607f",
   "metadata": {
    "scrolled": true
   },
   "outputs": [],
   "source": [
    "# df3"
   ]
  },
  {
   "cell_type": "code",
   "execution_count": null,
   "id": "7a4df004",
   "metadata": {},
   "outputs": [],
   "source": [
    "# df2"
   ]
  },
  {
   "cell_type": "code",
   "execution_count": null,
   "id": "1ea8d5ec",
   "metadata": {},
   "outputs": [],
   "source": [
    "# baseCargoOptionTerm=[['Base cargo name'],\n",
    "# [ 'Base cargo concatenated terms'],\n",
    "# [ 'Base cargo IMOS estimate']]"
   ]
  },
  {
   "cell_type": "code",
   "execution_count": null,
   "id": "0493128a",
   "metadata": {},
   "outputs": [],
   "source": [
    "# baseCargoOptionTermMatch=[['Base cargo name'],\n",
    "# [ 'Base cargo concatenated terms'],\n",
    "# [ 'Base cargo IMOS estimate']]"
   ]
  },
  {
   "cell_type": "code",
   "execution_count": null,
   "id": "9c88dab0",
   "metadata": {},
   "outputs": [],
   "source": [
    "# for i in range(len(baseCargoOptionTerm)):\n",
    "#     df2.loc.__setitem__((slice(None), ('Base cargo no parcel option terms', baseCargoOptionTerm[i])), df3[baseCargoOptionTermMatch[i]])"
   ]
  },
  {
   "cell_type": "code",
   "execution_count": null,
   "id": "f86590ca",
   "metadata": {},
   "outputs": [],
   "source": [
    "# df2"
   ]
  },
  {
   "cell_type": "code",
   "execution_count": null,
   "id": "8066bd43",
   "metadata": {},
   "outputs": [],
   "source": [
    "# baseCargoOptionPrice=[['01-12-2022'],\n",
    "# ['01-01-2023'],\n",
    "# ['01-02-2023']]"
   ]
  },
  {
   "cell_type": "code",
   "execution_count": null,
   "id": "1313f75d",
   "metadata": {},
   "outputs": [],
   "source": [
    "# baseCargoOptionPriceMatch=[['01-12-2022_discount_base'],\n",
    "# [ '01/01/2023_base price'],\n",
    "# [ '01-02-2023_discount_base']]"
   ]
  },
  {
   "cell_type": "code",
   "execution_count": null,
   "id": "5a0c130c",
   "metadata": {},
   "outputs": [],
   "source": [
    "# for i in range(len(baseCargoOptionPrice)):\n",
    "#     df2.loc.__setitem__((slice(None), ('Base cargo no parcel option prices', baseCargoOptionPrice[i])), df3[baseCargoOptionPriceMatch[i]])"
   ]
  },
  {
   "cell_type": "code",
   "execution_count": null,
   "id": "3c28cdb4",
   "metadata": {},
   "outputs": [],
   "source": [
    "# baseCargoDiscPrice=[['01-12-2022'],\n",
    "# ['01-01-2023'],\n",
    "# ['01-02-2023']]"
   ]
  },
  {
   "cell_type": "code",
   "execution_count": null,
   "id": "fe75a690",
   "metadata": {},
   "outputs": [],
   "source": [
    "# baseCargoDiscPriceMatch=[['01-12-2022_discount_base'],\n",
    "# [ '01-01-2023_discount_base'],\n",
    "# [ '01-02-2023_discount_base']]"
   ]
  },
  {
   "cell_type": "code",
   "execution_count": null,
   "id": "af0453af",
   "metadata": {},
   "outputs": [],
   "source": [
    "# for i in range(len(customPrice)):\n",
    "#     df2.loc.__setitem__((slice(None), ('Base cargo parcel option discounts/prices', baseCargoDiscPrice[i])), df3[baseCargoDiscPriceMatch[i]])"
   ]
  },
  {
   "cell_type": "code",
   "execution_count": null,
   "id": "9357f16c",
   "metadata": {},
   "outputs": [],
   "source": [
    "# topOfcargpoPrice=[['Top-off cargo IMOS estimate'],\n",
    "# ['01-12-2022'],\n",
    "# ['01-01-2023'],\n",
    "# ['01-02-2023']]"
   ]
  },
  {
   "cell_type": "code",
   "execution_count": null,
   "id": "19d06663",
   "metadata": {},
   "outputs": [],
   "source": [
    "# topOfcargpoPriceMatch=[['Top-off cargo IMOS estimate'],\n",
    "# [ ''],\n",
    "# [ ''],\n",
    "#  ['']]"
   ]
  },
  {
   "cell_type": "code",
   "execution_count": null,
   "id": "be9e2d9c",
   "metadata": {},
   "outputs": [],
   "source": [
    "# for i in range(len(customPrice)):\n",
    "#     df2.loc.__setitem__((slice(None), ('Top-off cargo economical stem no parcel option prices', topOfcargpoPrice[i])), df3[topOfcargpoPriceMatch[i]])"
   ]
  },
  {
   "cell_type": "code",
   "execution_count": null,
   "id": "b0a01102",
   "metadata": {},
   "outputs": [],
   "source": [
    "# topOfCargoDiscount=[['01-12-2022'],\n",
    "# ['01-01-2023'],\n",
    "# ['01-02-2023']]"
   ]
  },
  {
   "cell_type": "code",
   "execution_count": null,
   "id": "f5536066",
   "metadata": {},
   "outputs": [],
   "source": [
    "# topOfCargoDiscountMatch=[['12/01/2022_discount_top off'],\n",
    "# [ '01/01/2023_discount_top off'],\n",
    "# [ '']]"
   ]
  },
  {
   "cell_type": "code",
   "execution_count": null,
   "id": "320a879d",
   "metadata": {},
   "outputs": [],
   "source": [
    "# for i in range(len(topOfCargoDiscount)):\n",
    "#     df2.loc.__setitem__((slice(None), ('Top-off cargo w/parcel option discounts', topOfCargoDiscount[i])), df3[topOfCargoDiscountMatch[i]])"
   ]
  },
  {
   "cell_type": "code",
   "execution_count": null,
   "id": "1b5b90e6",
   "metadata": {},
   "outputs": [],
   "source": [
    "# parcelCalcTerm=[['Parcel calc name'],\n",
    "# ['Parcel calc concatenated terms'],\n",
    "# ['Parcel calc IMOS estimate']\n",
    "# ]"
   ]
  },
  {
   "cell_type": "code",
   "execution_count": null,
   "id": "13805bcd",
   "metadata": {},
   "outputs": [],
   "source": [
    "# parcelCalcTermMatch=[[''],\n",
    "# [ ''],\n",
    "# [ '']]"
   ]
  },
  {
   "cell_type": "code",
   "execution_count": null,
   "id": "e10fa052",
   "metadata": {},
   "outputs": [],
   "source": [
    "#                     prices[ '01-11-2022'], ['01-12-2022'], ['01-01-2023']\n",
    "# \n",
    "# ['Name'],\n",
    "# [ 'Report'],\n",
    "# [ 'Cargo'],\n",
    "# # [ 'Contractual qty(MT)'],\n",
    "# # [ 'Tolerance +/-(%)'],\n",
    "# # [ 'Quantity option'],\n",
    "# [ 'Stow factor(cbft/mt)'],\n",
    "# [ 'Load port'],\n",
    "# [ 'Load rate(MT/day)'],\n",
    "# [ 'Load terms'],\n",
    "# [ 'Load draft(m)'],\n",
    "# # [ 'No. of berths'],\n",
    "# [ 'Use cranes load'],\n",
    "# [ 'Discharge port'],\n",
    "# [ 'Discharge rate(MT/day)'],\n",
    "# [ 'Discharge terms'],\n",
    "# # [ 'Discharge draft(m)'],\n",
    "# [ 'No. of berths'],\n",
    "# [ 'Use cranes disch'],\n",
    "# [ 'Voyage sale addr comm(%)'],\n",
    "# [ 'Voyage sale broker comm(%)'],\n",
    "# # [ 'Option part cargo']\n"
   ]
  },
  {
   "cell_type": "code",
   "execution_count": null,
   "id": "6906bf0c",
   "metadata": {},
   "outputs": [],
   "source": [
    "# for i in range(len(parcelCalcTerm)):\n",
    "#     df2.loc.__setitem__((slice(None), ('Parcel calc terms', parcelCalcTerm[i])), df3[parcelCalcTermMatch[i]])"
   ]
  },
  {
   "cell_type": "code",
   "execution_count": null,
   "id": "aa5ba1f6",
   "metadata": {},
   "outputs": [],
   "source": [
    "# parcelCalcpnl=[['01-12-2022'],\n",
    "# ['01-01-2023'],\n",
    "# ['01-02-2023']]"
   ]
  },
  {
   "cell_type": "code",
   "execution_count": null,
   "id": "99a67025",
   "metadata": {},
   "outputs": [],
   "source": [
    "# parcelCalcpnlMatch=[[''],\n",
    "# [ ''],\n",
    "# [ '']]"
   ]
  },
  {
   "cell_type": "code",
   "execution_count": null,
   "id": "82ee2667",
   "metadata": {},
   "outputs": [],
   "source": [
    "# for i in range(len(parcelCalcpnl)):\n",
    "#     df2.loc.__setitem__((slice(None), ('Parcel calc P&L', parcelCalcpnl[i])), df3[parcelCalcpnlMatch[i]])"
   ]
  },
  {
   "cell_type": "code",
   "execution_count": null,
   "id": "1f994863",
   "metadata": {},
   "outputs": [],
   "source": [
    "# parcelCalcInputPnl=[['01-12-2022'],\n",
    "# ['01-01-2023'],\n",
    "# ['01-02-2023']]"
   ]
  },
  {
   "cell_type": "code",
   "execution_count": null,
   "id": "bbc62a6c",
   "metadata": {},
   "outputs": [],
   "source": [
    "# parcelCalcInputPnlMatch=[[''],\n",
    "# [ ''],\n",
    "# [ '']]"
   ]
  },
  {
   "cell_type": "code",
   "execution_count": null,
   "id": "6ccede3a",
   "metadata": {},
   "outputs": [],
   "source": [
    "# for i in range(len(parcelCalcInputPnl)):\n",
    "#     df2.loc.__setitem__((slice(None), ('Parcel calc INPUT P&L', parcelCalcInputPnl[i])), df3[parcelCalcInputPnlMatch[i]])"
   ]
  },
  {
   "cell_type": "code",
   "execution_count": null,
   "id": "5a8e2cf7",
   "metadata": {},
   "outputs": [],
   "source": [
    "# parcelCalctopOffPnl=[['01-12-2022'],\n",
    "# ['01-01-2023'],\n",
    "# ['01-02-2023']]"
   ]
  },
  {
   "cell_type": "code",
   "execution_count": null,
   "id": "d19cb4e3",
   "metadata": {},
   "outputs": [],
   "source": [
    "# parcelCalctopOffPnlMatch=[[''],\n",
    "# [ ''],\n",
    "# [ '']]"
   ]
  },
  {
   "cell_type": "code",
   "execution_count": null,
   "id": "1f7851d6",
   "metadata": {},
   "outputs": [],
   "source": [
    "# for i in range(len(parcelCalctopOffPnl)):\n",
    "#     df2.loc.__setitem__((slice(None), ('Parcel calc top-off parcel option PnL equivalent discount', parcelCalctopOffPnl[i])), df3[parcelCalctopOffPnlMatch[i]])"
   ]
  },
  {
   "cell_type": "code",
   "execution_count": null,
   "id": "1dc2e96c",
   "metadata": {},
   "outputs": [],
   "source": [
    "# import pandas as pd\n",
    "# # import pyxlsb"
   ]
  },
  {
   "cell_type": "code",
   "execution_count": null,
   "id": "67f0429c",
   "metadata": {},
   "outputs": [],
   "source": [
    "# xls = pd.ExcelFile('otTraderPanel.xlsx')\n",
    "# df1 = pd.read_excel(xls, 'Sheet 1',header=[0,1])\n",
    "# df2 = pd.read_excel(xls, 'Sheet 2',header=[0,1])"
   ]
  },
  {
   "cell_type": "code",
   "execution_count": null,
   "id": "e64d6c22",
   "metadata": {},
   "outputs": [],
   "source": [
    "# existingdf.to_excel(r'PATH\\filename.xlsb')"
   ]
  },
  {
   "cell_type": "code",
   "execution_count": null,
   "id": "e4b2fe00",
   "metadata": {},
   "outputs": [],
   "source": [
    "# with pd.ExcelWriter('filename.xlsb',) as writer:  \n",
    "#     df1.to_excel(writer, sheet_name='Sheet 1')\n",
    "#     df2.to_excel(writer, sheet_name='Sheet 2')"
   ]
  },
  {
   "cell_type": "code",
   "execution_count": null,
   "id": "bcecbefc",
   "metadata": {},
   "outputs": [],
   "source": [
    "# df1.loc.__setitem__((slice(None), ('Customer prices', '01-11-2022')), df3['Customer price_11/01/2022'])\n",
    "# df1.loc.__setitem__((slice(None), ('Customer prices', '01-12-2022')), df3['Customer price_12/01/2022'])\n",
    "# df1.loc.__setitem__((slice(None), ('Customer prices', '01-01-2023')), df3['Customer price_01/01/2023'])"
   ]
  },
  {
   "cell_type": "code",
   "execution_count": null,
   "id": "15af5ed9",
   "metadata": {},
   "outputs": [],
   "source": [
    "# df1"
   ]
  },
  {
   "cell_type": "code",
   "execution_count": null,
   "id": "999f403e",
   "metadata": {},
   "outputs": [],
   "source": [
    "# df2.columns = [df2.iloc[0]]\n",
    "# df2 = df2[1:]\n",
    "# # df.head()"
   ]
  },
  {
   "cell_type": "code",
   "execution_count": null,
   "id": "44b8efbf",
   "metadata": {},
   "outputs": [],
   "source": [
    "# df2"
   ]
  },
  {
   "cell_type": "code",
   "execution_count": null,
   "id": "1c5381f8",
   "metadata": {},
   "outputs": [],
   "source": [
    "# df1['Name']=df3['']\n",
    "# df1['Report']=df3['']\n",
    "# df1['Cargo']=df3['Base cargo']\n",
    "# df1['Contractual qty(MT)']=df3['']\n",
    "# df1['Tolerance +/-(%)']=df3['']\n",
    "# df1['Quantity option']=df3['']\n",
    "# df1['Stow factor(cbft/mt)']=df3['']\n",
    "# df1['Load port']=df3['']\n",
    "# df1['Load rate(MT/day)']=df3['']\n",
    "# df1['Load terms']=df3['']\n",
    "# df1['Load draft(m)']=df3['']\n",
    "# df1['No. of berths']=df3['']\n",
    "# df1['Use cranes load']=df3['']\n",
    "# df1['Discharge port']=df3['']\n",
    "# df1['Discharge rate(MT/day)']=df3['']\n",
    "# df1['Discharge terms']=df3['']\n",
    "# df1['Discharge draft(m)']=df3['']\n",
    "# df1['No. of berths']=df3['']\n",
    "# df1['Use cranes disch']=df3['']\n",
    "# df1.xs('Customer terms',level='S',axis=1)\n",
    "# df1['Voyage sale addr comm(%)']= df3['comm']\n",
    "# df1['Customer terms']['Voyage sale addr comm(%)']= df3['comm']\n",
    "# df1.__getitem__('Customer terms').__setitem__('Voyage sale addr comm(%)', df3['comm'])\n"
   ]
  },
  {
   "cell_type": "code",
   "execution_count": null,
   "id": "989b255a",
   "metadata": {},
   "outputs": [],
   "source": [
    "# df1.columns = [df1.iloc[0],df1.iloc[1]]\n",
    "# df1 = df1[1:]"
   ]
  },
  {
   "cell_type": "code",
   "execution_count": null,
   "id": "8212c15b",
   "metadata": {},
   "outputs": [],
   "source": [
    "# df2['Base cargo name']=df3['Base cargo']\n",
    "# df2['Base cargo concatenated terms']=df3['']\n",
    "\n",
    "\n",
    "# df2['Base cargo IMOS estimate']=df3['Base cargo IMOS estimate']\n",
    "# df2['01-11-2022']=df3['11/01/2022_base price']\n",
    "# df2['01-12-2022']=df3['12/01/2022_base price']\n",
    "# df2['01-01-2023']=df3['01/01/2023_base price']\n",
    "# df2['01-11-2022']=df3['11/01/2022_disc_base']\n",
    "# df2['01-12-2022']=df3['12/01/2022_disc_base']\n",
    "# df2['01-01-2023']=df3['01/01/2023_disc_base']\n",
    "# df2['Top-off cargo IMOS estimate']=df3['Top-off cargo IMOS estimate']\n",
    "# df2['01-11-2022']=df3['11/01/2022_top off price']\n",
    "# df2['01-12-2022']=df3['12/01/2022_top off price']\n",
    "# df2['01-01-2023']=df3['01/01/2023_top off price']\n",
    "# df2['01-11-2022']=df3['11/01/2022_disc_top off']\n",
    "# df2['01-12-2022']=df3['12/01/2022_disc_top off']\n",
    "# df2['01-01-2023']=df3['01/01/2023_disc_top off']\n",
    "# df2['Parcel calc name']=df3['Parcel calc name']\n",
    "# # df2['Parcel calc concatenated terms']=df3['']\n",
    "# df2['Parcel calc IMOS estimate']=df3['Parcel calc IMOS estimate']\n",
    "# # df2['01-11-2022']=df3['']\n",
    "# # df2['01-12-2022']=df3['']\n",
    "# # df2['01-01-2023']=df3['']\n",
    "# # df2['01-10-2022']=df3['']\n",
    "# # df2['01-11-2022']=df3['']\n",
    "# # df2['01-01-2023']=df3['']\n",
    "# # df2['01-11-2022']=df3['']\n",
    "# # df2['01-12-2022']=df3['']\n",
    "# # df2['01-01-2023']=df3['']"
   ]
  },
  {
   "cell_type": "code",
   "execution_count": null,
   "id": "8f1a33de",
   "metadata": {},
   "outputs": [],
   "source": [
    "# df1.columns = df1.iloc[1]\n",
    "# df1 = df1[0:]"
   ]
  },
  {
   "cell_type": "code",
   "execution_count": null,
   "id": "e657bc59",
   "metadata": {},
   "outputs": [],
   "source": [
    "# df2.columns = df2.iloc[1]\n",
    "# df2 = df2[0:]"
   ]
  },
  {
   "cell_type": "code",
   "execution_count": null,
   "id": "c5971f97",
   "metadata": {},
   "outputs": [],
   "source": [
    "# df1"
   ]
  },
  {
   "cell_type": "code",
   "execution_count": null,
   "id": "b2d0c280",
   "metadata": {},
   "outputs": [],
   "source": [
    "# df2"
   ]
  },
  {
   "cell_type": "code",
   "execution_count": null,
   "id": "06cfa209",
   "metadata": {},
   "outputs": [],
   "source": [
    "# with pd.ExcelWriter('finalOTtrader.xlsx') as writer:  \n",
    "#     df1.to_excel(writer, sheet_name='Sheet 1')\n",
    "#     df2.to_excel(writer, sheet_name='Sheet 2')"
   ]
  },
  {
   "cell_type": "code",
   "execution_count": null,
   "id": "c612f55e",
   "metadata": {},
   "outputs": [],
   "source": [
    "# #     df1['Customer terms', 'Name']= df3['Name']\n",
    "# df1['Customer terms', 'Name']=df3['Name']\n",
    "# df1['Customer terms', 'Report']=df3['Report']\n",
    "# df1['Customer terms', 'Cargo']=df3['Cargo']\n",
    "# # df1['Customer terms', 'Contractual qty(MT)']=df3['comm']\n",
    "# # df1['Customer terms', 'Tolerance +/-(%)']=df3['comm']\n",
    "# # df1['Customer terms', 'Quantity option']=df3['comm']\n",
    "# df1['Customer terms', 'Stow factor(cbft/mt)']=df3['Stow factor(cbft/mt)']\n",
    "# df1['Customer terms', 'Load port']=df3['Load port']\n",
    "# df1['Customer terms', 'Load rate(MT/day)']=df3['Load rate(MT/day)']\n",
    "# df1['Customer terms', 'Load terms']=df3['Load terms']\n",
    "# df1['Customer terms', 'Load draft(m)']=df3['Load draft(m)']\n",
    "# # df1['Customer terms', 'No. of berths']=df3['comm']\n",
    "# df1['Customer terms', 'Use cranes load']=df3['Use cranes load']\n",
    "# df1['Customer terms', 'Discharge port']=df3['Discharge port']\n",
    "# df1['Customer terms', 'Discharge rate(MT/day)']=df3['Discharge rate(MT/day)']\n",
    "# df1['Customer terms', 'Discharge terms']=df3['Discharge terms']\n",
    "# df1['Customer terms', 'Discharge draft(m)']=df3['Discharge draft(m)']\n",
    "# # df1['Customer terms', 'No. of berths']=df3['comm']\n",
    "# df1['Customer terms', 'Use cranes disch']=df3['Use cranes disch']\n",
    "# df1['Customer terms', 'Voyage sale addr comm(%)']=df3['Voyage sale addr comm(%)']\n",
    "# df1['Customer terms', 'Voyage sale broker comm(%)']=df3['Voyage sale broker comm(%)']\n",
    "# # df1['Customer terms', 'Option part cargo']=df3['comm']\n",
    "    #     arr2=[ 'Name', 'Report' , 'Cargo' ,\n",
    "# #           'Contractual qty(MT)'\n",
    "# #                 , 'Tolerance +/-(%)'\n",
    "# #                 , 'Quantity option'\n",
    "#                 'Stow factor(cbft/mt)'\n",
    "#                 , 'Load port'\n",
    "#                 , 'Load rate(MT/day)'\n",
    "#                 , 'Load terms'\n",
    "#                 , 'Load draft(m)'\n",
    "# #                 , 'No. of berths'\n",
    "#                 , 'Use cranes load'\n",
    "#                 , 'Discharge port'\n",
    "#                 , 'Discharge rate(MT/day)'\n",
    "#                 , 'Discharge terms'\n",
    "#                 , 'Discharge draft(m)'\n",
    "# #                 , 'No. of berths'\n",
    "#                 , 'Use cranes disch'\n",
    "#                 , 'Voyage sale addr comm(%)'\n",
    "#                 , 'Voyage sale broker comm(%)' \n",
    "# #           ,'Option part cargo'\n",
    "#          ]\n",
    "    "
   ]
  },
  {
   "cell_type": "code",
   "execution_count": null,
   "id": "c1a91075",
   "metadata": {},
   "outputs": [],
   "source": []
  },
  {
   "cell_type": "code",
   "execution_count": null,
   "id": "23941d17",
   "metadata": {},
   "outputs": [],
   "source": []
  }
 ],
 "metadata": {
  "kernelspec": {
   "display_name": "Python 3 (ipykernel)",
   "language": "python",
   "name": "python3"
  },
  "language_info": {
   "codemirror_mode": {
    "name": "ipython",
    "version": 3
   },
   "file_extension": ".py",
   "mimetype": "text/x-python",
   "name": "python",
   "nbconvert_exporter": "python",
   "pygments_lexer": "ipython3",
   "version": "3.8.0"
  }
 },
 "nbformat": 4,
 "nbformat_minor": 5
}
